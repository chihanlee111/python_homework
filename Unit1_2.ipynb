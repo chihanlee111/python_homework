{
 "cells": [
  {
   "cell_type": "code",
   "execution_count": 1,
   "metadata": {
    "collapsed": false
   },
   "outputs": [
    {
     "name": "stdout",
     "output_type": "stream",
     "text": [
      "['德國「福斯汽車公司」，在轎車排氣檢測方面造假', '事情曝光後，受影響的轎車價值下滑', '「福斯公司」可能賠償車主。']\n"
     ]
    }
   ],
   "source": [
    "word=[\"德國「福斯汽車公司」，在轎車排氣檢測方面造假\",\"事情曝光後，受影響的轎車價值下滑\",\"「福斯公司」可能賠償車主。\"]\n",
    "print(word)"
   ]
  },
  {
   "cell_type": "code",
   "execution_count": 3,
   "metadata": {
    "collapsed": false
   },
   "outputs": [
    {
     "name": "stdout",
     "output_type": "stream",
     "text": [
      "事情曝光後，受影響的轎車價值下滑\n"
     ]
    }
   ],
   "source": [
    "word=[\"德國「福斯汽車公司」，在轎車排氣檢測方面造假\",\"事情曝光後，受影響的轎車價值下滑\",\"「福斯公司」可能賠償車主。\"]\n",
    "temp=word[1]\n",
    "word[1]=word[0]\n",
    "word[0]=temp\n",
    "print(word[0])"
   ]
  },
  {
   "cell_type": "code",
   "execution_count": null,
   "metadata": {
    "collapsed": true
   },
   "outputs": [],
   "source": []
  }
 ],
 "metadata": {
  "kernelspec": {
   "display_name": "Python 3",
   "language": "python",
   "name": "python3"
  },
  "language_info": {
   "codemirror_mode": {
    "name": "ipython",
    "version": 3
   },
   "file_extension": ".py",
   "mimetype": "text/x-python",
   "name": "python",
   "nbconvert_exporter": "python",
   "pygments_lexer": "ipython3",
   "version": "3.4.3"
  }
 },
 "nbformat": 4,
 "nbformat_minor": 0
}
