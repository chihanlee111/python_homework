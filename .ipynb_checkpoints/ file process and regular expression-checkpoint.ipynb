{
 "cells": [
  {
   "cell_type": "code",
   "execution_count": 1,
   "metadata": {
    "collapsed": false
   },
   "outputs": [
    {
     "name": "stdout",
     "output_type": "stream",
     "text": [
      "# coding: utf-8\n",
      "\n",
      "# In[1]:\n",
      "\n",
      "# In[ ]:\n",
      "\n",
      "# In[ ]:\n",
      "\n"
     ]
    }
   ],
   "source": [
    "#this is to handle to the file to built connection between main memory and hard drive \n",
    "#\n",
    "#\"open(\"file name\")\n",
    "import re\n",
    "data=open(\"school timetable.py\",\"r\")\n",
    "#data=data.rstrip()\n",
    "for line in data:\n",
    "    if re.search(\"^#\",line):\n",
    "        print(line)\n"
   ]
  },
  {
   "cell_type": "code",
   "execution_count": 2,
   "metadata": {
    "collapsed": false
   },
   "outputs": [
    {
     "data": {
      "text/plain": [
       "<Element 'tables' at 0x1063bc9a8>"
      ]
     },
     "execution_count": 2,
     "metadata": {},
     "output_type": "execute_result"
    }
   ],
   "source": [
    "#Try to process xml file\n",
    "#It seems very hard for me\n",
    "#I dont know what tree is\n",
    "import xml.etree.cElementTree as ET\n",
    "data=open(\"105-0701-人事費用分析表-20160119145200.xml\")\n",
    "tree = ET.ElementTree(file='105-0701-人事費用分析表-20160119145200.xml')\n",
    "tree.getroot()"
   ]
  },
  {
   "cell_type": "code",
   "execution_count": 3,
   "metadata": {
    "collapsed": false
   },
   "outputs": [
    {
     "name": "stdout",
     "output_type": "stream",
     "text": [
      "['2', '1', '3', '3', '2', '2', '3', '3', '4', '6', '6', '1', '3', '2']\n"
     ]
    }
   ],
   "source": [
    "import re\n",
    "xx=\"2 133 22 33 4 66 132\"\n",
    "y=re.findall(\"[0-9]\",xx)\n",
    "print(y)"
   ]
  },
  {
   "cell_type": "code",
   "execution_count": 4,
   "metadata": {
    "collapsed": false
   },
   "outputs": [
    {
     "name": "stdout",
     "output_type": "stream",
     "text": [
      "[' 2 ']\n"
     ]
    }
   ],
   "source": [
    "x=\"I have 100 apple and 2 banana\"\n",
    "cou=re.findall(\"\\s[0-9]\\s\",x)\n",
    "print(cou)"
   ]
  },
  {
   "cell_type": "code",
   "execution_count": 23,
   "metadata": {
    "collapsed": false
   },
   "outputs": [
    {
     "name": "stdout",
     "output_type": "stream",
     "text": [
      "['utc.ac.za']\n"
     ]
    }
   ],
   "source": [
    "#() is that something you want python to return\n",
    "#(\".*@([^ ]*)\")\n",
    "mail=\"From: Stepten.marquard@utc.ac.za sat jan 5 09:14:16 2008\"\n",
    "y=re.findall(\".*@([^ ]*)\",mail)\n",
    "print(y)"
   ]
  },
  {
   "cell_type": "code",
   "execution_count": null,
   "metadata": {
    "collapsed": true
   },
   "outputs": [],
   "source": []
  }
 ],
 "metadata": {
  "kernelspec": {
   "display_name": "Python 3",
   "language": "python",
   "name": "python3"
  },
  "language_info": {
   "codemirror_mode": {
    "name": "ipython",
    "version": 3
   },
   "file_extension": ".py",
   "mimetype": "text/x-python",
   "name": "python",
   "nbconvert_exporter": "python",
   "pygments_lexer": "ipython3",
   "version": "3.5.0"
  }
 },
 "nbformat": 4,
 "nbformat_minor": 0
}
