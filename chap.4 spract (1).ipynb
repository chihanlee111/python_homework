{
 "cells": [
  {
   "cell_type": "code",
   "execution_count": 2,
   "metadata": {
    "collapsed": false
   },
   "outputs": [
    {
     "name": "stdout",
     "output_type": "stream",
     "text": [
      "False\n"
     ]
    }
   ],
   "source": [
    "#\n",
    "a=not True\n",
    "while a==True:\n",
    "    print(\"tr\")\n",
    "else:\n",
    "    print(a)\n",
    "    "
   ]
  },
  {
   "cell_type": "code",
   "execution_count": 6,
   "metadata": {
    "collapsed": false
   },
   "outputs": [
    {
     "data": {
      "text/plain": [
       "[1, 2, 3, 4, 5]"
      ]
     },
     "execution_count": 6,
     "metadata": {},
     "output_type": "execute_result"
    }
   ],
   "source": [
    "a_lis=[]\n",
    "for x in range(1,6):\n",
    "    a_lis.append(x)\n",
    "a_lis\n",
    "    "
   ]
  },
  {
   "cell_type": "code",
   "execution_count": 9,
   "metadata": {
    "collapsed": false
   },
   "outputs": [
    {
     "data": {
      "text/plain": [
       "[0, 1, 2, 3, 4, 5]"
      ]
     },
     "execution_count": 9,
     "metadata": {},
     "output_type": "execute_result"
    }
   ],
   "source": [
    "a_lis=list(range(0,6))\n",
    "a_lis"
   ]
  },
  {
   "cell_type": "code",
   "execution_count": 14,
   "metadata": {
    "collapsed": false
   },
   "outputs": [
    {
     "data": {
      "text/plain": [
       "{'e': 2, 'l': 1, 'r': 1, 's': 1, 't': 2}"
      ]
     },
     "execution_count": 14,
     "metadata": {},
     "output_type": "execute_result"
    }
   ],
   "source": [
    "word=\"letters\"\n",
    "letter_count={letter:word.count(letter)for letter in word}\n",
    "letter_count"
   ]
  },
  {
   "cell_type": "code",
   "execution_count": 36,
   "metadata": {
    "collapsed": false
   },
   "outputs": [
    {
     "data": {
      "text/plain": [
       "{1, 4}"
      ]
     },
     "execution_count": 36,
     "metadata": {},
     "output_type": "execute_result"
    }
   ],
   "source": [
    "a_set={number for number in range(0,6) if number%3==1}\n",
    "a_set"
   ]
  },
  {
   "cell_type": "code",
   "execution_count": 46,
   "metadata": {
    "collapsed": false
   },
   "outputs": [],
   "source": [
    "def prnxn(m,*n):\n",
    "    a=m*n\n",
    "    return a"
   ]
  },
  {
   "cell_type": "code",
   "execution_count": 55,
   "metadata": {
    "collapsed": false
   },
   "outputs": [],
   "source": [
    "def meau(wine,entree,dessert):\n",
    "    return {\"wine\":wine,\"entree\":entree,\"dessert\":dessert}"
   ]
  },
  {
   "cell_type": "code",
   "execution_count": 59,
   "metadata": {
    "collapsed": false
   },
   "outputs": [
    {
     "data": {
      "text/plain": [
       "{'dessert': 'cake', 'entree': 'steak', 'wine': 'red'}"
      ]
     },
     "execution_count": 59,
     "metadata": {},
     "output_type": "execute_result"
    }
   ],
   "source": [
    "meal=[\"red\",\"steak\",\"cake\"]\n",
    "meau(\"red\",\"steak\",\"cake\")"
   ]
  },
  {
   "cell_type": "code",
   "execution_count": 95,
   "metadata": {
    "collapsed": true
   },
   "outputs": [],
   "source": [
    "#######################################################################################################################"
   ]
  },
  {
   "cell_type": "code",
   "execution_count": 77,
   "metadata": {
    "collapsed": true
   },
   "outputs": [],
   "source": [
    "def buggy(arg,result=[]):\n",
    "    result=[]\n",
    "    result.append(arg)\n",
    "    print(result)"
   ]
  },
  {
   "cell_type": "code",
   "execution_count": 81,
   "metadata": {
    "collapsed": false
   },
   "outputs": [
    {
     "name": "stdout",
     "output_type": "stream",
     "text": [
      "['a']\n"
     ]
    }
   ],
   "source": [
    "buggy(\"a\")"
   ]
  },
  {
   "cell_type": "code",
   "execution_count": 86,
   "metadata": {
    "collapsed": false
   },
   "outputs": [],
   "source": [
    "def nonbuggy(arg,result=None):\n",
    "    if result==None:\n",
    "        result=[]\n",
    "        result.append(arg)\n",
    "        print(result)"
   ]
  },
  {
   "cell_type": "code",
   "execution_count": 87,
   "metadata": {
    "collapsed": false
   },
   "outputs": [
    {
     "name": "stdout",
     "output_type": "stream",
     "text": [
      "['3']\n"
     ]
    }
   ],
   "source": [
    "nonbuggy(\"3\")"
   ]
  },
  {
   "cell_type": "code",
   "execution_count": 89,
   "metadata": {
    "collapsed": true
   },
   "outputs": [],
   "source": [
    "def echo(anything):\n",
    "    'echo returns its input arguments'\n",
    "    return anything"
   ]
  },
  {
   "cell_type": "code",
   "execution_count": 96,
   "metadata": {
    "collapsed": false
   },
   "outputs": [
    {
     "name": "stdout",
     "output_type": "stream",
     "text": [
      "echo returns its input arguments\n"
     ]
    }
   ],
   "source": [
    "print(echo.__doc__)"
   ]
  },
  {
   "cell_type": "code",
   "execution_count": 108,
   "metadata": {
    "collapsed": true
   },
   "outputs": [],
   "source": [
    "def run_something(func):\n",
    "    return func(1,2,3,4,5,6)"
   ]
  },
  {
   "cell_type": "code",
   "execution_count": 104,
   "metadata": {
    "collapsed": true
   },
   "outputs": [],
   "source": [
    "def func(*arg):\n",
    "    return sum(arg)\n",
    "    \n",
    "    "
   ]
  },
  {
   "cell_type": "code",
   "execution_count": 110,
   "metadata": {
    "collapsed": false
   },
   "outputs": [
    {
     "data": {
      "text/plain": [
       "21"
      ]
     },
     "execution_count": 110,
     "metadata": {},
     "output_type": "execute_result"
    }
   ],
   "source": [
    "run_something(func)"
   ]
  },
  {
   "cell_type": "code",
   "execution_count": 113,
   "metadata": {
    "collapsed": true
   },
   "outputs": [],
   "source": [
    "def modcal(funct,num1,num2,*args):\n",
    "    a=funct(num1,num2)\n",
    "    return a"
   ]
  },
  {
   "cell_type": "code",
   "execution_count": 115,
   "metadata": {
    "collapsed": true
   },
   "outputs": [],
   "source": [
    "def time(a,b):\n",
    "    return a*b"
   ]
  },
  {
   "cell_type": "code",
   "execution_count": 118,
   "metadata": {
    "collapsed": false
   },
   "outputs": [
    {
     "data": {
      "text/plain": [
       "12"
      ]
     },
     "execution_count": 118,
     "metadata": {},
     "output_type": "execute_result"
    }
   ],
   "source": [
    "modcal(time,6,2)"
   ]
  },
  {
   "cell_type": "code",
   "execution_count": 5,
   "metadata": {
    "collapsed": true
   },
   "outputs": [],
   "source": [
    "def calfnc(func,num1,num2):\n",
    "    a=calfnc(calfnc,num1,num2)\n",
    "    return a\n",
    "    "
   ]
  },
  {
   "cell_type": "code",
   "execution_count": 10,
   "metadata": {
    "collapsed": false
   },
   "outputs": [],
   "source": [
    "def print_kwargs(**kwargs):\n",
    "    print(\"Keyword arguments: \",kwargs)"
   ]
  },
  {
   "cell_type": "code",
   "execution_count": 11,
   "metadata": {
    "collapsed": false
   },
   "outputs": [
    {
     "name": "stdout",
     "output_type": "stream",
     "text": [
      "Keyword arguments:  {'entree': 'mutton', 'dessert': 'macaroon', 'wine': 'merlot'}\n"
     ]
    }
   ],
   "source": [
    "print_kwargs(wine=\"merlot\",entree=\"mutton\",dessert=\"macaroon\")"
   ]
  },
  {
   "cell_type": "code",
   "execution_count": 18,
   "metadata": {
    "collapsed": true
   },
   "outputs": [],
   "source": [
    "def knights(saying):\n",
    "    def inner(quote):\n",
    "        return \"we are the knights who say: '%s'\"% quote\n",
    "    return inner(saying)"
   ]
  },
  {
   "cell_type": "code",
   "execution_count": 20,
   "metadata": {
    "collapsed": false
   },
   "outputs": [
    {
     "data": {
      "text/plain": [
       "\"we are the knights who say: 'NI'\""
      ]
     },
     "execution_count": 20,
     "metadata": {},
     "output_type": "execute_result"
    }
   ],
   "source": [
    "knights(\"NI\")"
   ]
  },
  {
   "cell_type": "code",
   "execution_count": 23,
   "metadata": {
    "collapsed": true
   },
   "outputs": [],
   "source": [
    "def outer(*num):\n",
    "    def inner(*num):\n",
    "        return sum(num)\n",
    "    return inner(*num)"
   ]
  },
  {
   "cell_type": "code",
   "execution_count": 30,
   "metadata": {
    "collapsed": false
   },
   "outputs": [
    {
     "data": {
      "text/plain": [
       "21"
      ]
     },
     "execution_count": 30,
     "metadata": {},
     "output_type": "execute_result"
    }
   ],
   "source": [
    "outer(1,2,3,4,5,6)"
   ]
  },
  {
   "cell_type": "code",
   "execution_count": 32,
   "metadata": {
    "collapsed": false
   },
   "outputs": [
    {
     "ename": "TabError",
     "evalue": "inconsistent use of tabs and spaces in indentation (<ipython-input-32-0f94b53c4109>, line 25)",
     "output_type": "error",
     "traceback": [
      "\u001b[0;36m  File \u001b[0;32m\"<ipython-input-32-0f94b53c4109>\"\u001b[0;36m, line \u001b[0;32m25\u001b[0m\n\u001b[0;31m    for i in result:\u001b[0m\n\u001b[0m                    ^\u001b[0m\n\u001b[0;31mTabError\u001b[0m\u001b[0;31m:\u001b[0m inconsistent use of tabs and spaces in indentation\n"
     ]
    }
   ],
   "source": [
    "#!/usr/bin/python\n",
    "#coding:utf-8\n",
    "import urllib\n",
    "import re\n",
    "import sys\n",
    "\n",
    "\n",
    "\n",
    "def ISIP(s):\n",
    "    return len([i for i in s.split('.') if (0<= int(i)<= 255)])== 4\n",
    "\n",
    "def URL(ip):\n",
    "\tuip=urllib.urlopen('http://wap.ip138.com/ip.asp?ip=%s'%ip)\n",
    "\tfip=uip.read()\n",
    "\trip=re.compile(r\"<br/><b>查询结果：(.*)</b><br/>\")\n",
    "\tresult=rip.findall(fip)\n",
    "\tprint (\"%s\\t %s\" %(ip,result[0]))\n",
    "\n",
    "def DO(domain):\n",
    "        url=urllib.urlopen('http://wap.ip138.com/ip.asp?ip=%s'%domain)\n",
    "        f=url.read()\n",
    "        r=re.compile(r'&gt; (.*)<br/><b>查询结果：(.*)</b><br/>')\n",
    "        result=r.findall(f)\n",
    "\t#print type(result)\n",
    "\tfor i in result:\n",
    "        \tprint \"%s\\t %s\\t %s\\t\" %(domain,i[0],i[1])\n",
    "\n",
    "if __name__ == \"__main__\":\n",
    "\tif len(sys.argv) < 2:\n",
    "\t\tprint \"请输入IP地址或者域名 (例如:192.168.1.1 / www.baidu.com)\"\n",
    "\t\tsys.exit()\n",
    "\tINPUT=sys.argv[1]\n",
    "\tif not re.findall('(\\d{1,3}\\.){3}\\d{1,3}',INPUT):\n",
    "\t        if re.findall(r'(\\w+\\.)?(\\w+)(\\.\\D+){1,2}',INPUT) :\n",
    "\t                DOMAIN=INPUT\n",
    "\t\t\tDO(DOMAIN)\n",
    "\t        else:\n",
    "\t                print \"输入的IP地址和域名格式不对！\"\n",
    "\telse:\n",
    "\t        if ISIP(INPUT)  :\n",
    "\t                IPADDRESS=INPUT\n",
    "\t\t\tURL(IPADDRESS)\n",
    "\t        else:\n",
    "\t                print \"IP 地址不合法，请重新输入！\""
   ]
  }
 ],
 "metadata": {
  "kernelspec": {
   "display_name": "Python 3",
   "language": "python",
   "name": "python3"
  },
  "language_info": {
   "codemirror_mode": {
    "name": "ipython",
    "version": 3
   },
   "file_extension": ".py",
   "mimetype": "text/x-python",
   "name": "python",
   "nbconvert_exporter": "python",
   "pygments_lexer": "ipython3",
   "version": "3.5.0"
  }
 },
 "nbformat": 4,
 "nbformat_minor": 0
}
